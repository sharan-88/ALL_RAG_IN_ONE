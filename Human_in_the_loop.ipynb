{
  "nbformat": 4,
  "nbformat_minor": 0,
  "metadata": {
    "colab": {
      "provenance": [],
      "authorship_tag": "ABX9TyPAp6BQGltet8RjhOn9yVjS",
      "include_colab_link": true
    },
    "kernelspec": {
      "name": "python3",
      "display_name": "Python 3"
    },
    "language_info": {
      "name": "python"
    }
  },
  "cells": [
    {
      "cell_type": "markdown",
      "metadata": {
        "id": "view-in-github",
        "colab_type": "text"
      },
      "source": [
        "<a href=\"https://colab.research.google.com/github/sharan-88/ALL_RAG_IN_ONE/blob/main/Human_in_the_loop.ipynb\" target=\"_parent\"><img src=\"https://colab.research.google.com/assets/colab-badge.svg\" alt=\"Open In Colab\"/></a>"
      ]
    },
    {
      "cell_type": "code",
      "source": [
        "!pip install langgraph"
      ],
      "metadata": {
        "colab": {
          "base_uri": "https://localhost:8080/"
        },
        "id": "6miEnlWSVjH6",
        "outputId": "57df7a6e-4105-4fcc-a7d8-c61f9a94474d"
      },
      "execution_count": 18,
      "outputs": [
        {
          "output_type": "stream",
          "name": "stdout",
          "text": [
            "Requirement already satisfied: langgraph in /usr/local/lib/python3.11/dist-packages (0.6.3)\n",
            "Requirement already satisfied: langchain-core>=0.1 in /usr/local/lib/python3.11/dist-packages (from langgraph) (0.3.72)\n",
            "Requirement already satisfied: langgraph-checkpoint<3.0.0,>=2.1.0 in /usr/local/lib/python3.11/dist-packages (from langgraph) (2.1.1)\n",
            "Requirement already satisfied: langgraph-prebuilt<0.7.0,>=0.6.0 in /usr/local/lib/python3.11/dist-packages (from langgraph) (0.6.3)\n",
            "Requirement already satisfied: langgraph-sdk<0.3.0,>=0.2.0 in /usr/local/lib/python3.11/dist-packages (from langgraph) (0.2.0)\n",
            "Requirement already satisfied: pydantic>=2.7.4 in /usr/local/lib/python3.11/dist-packages (from langgraph) (2.11.7)\n",
            "Requirement already satisfied: xxhash>=3.5.0 in /usr/local/lib/python3.11/dist-packages (from langgraph) (3.5.0)\n",
            "Requirement already satisfied: langsmith>=0.3.45 in /usr/local/lib/python3.11/dist-packages (from langchain-core>=0.1->langgraph) (0.4.8)\n",
            "Requirement already satisfied: tenacity!=8.4.0,<10.0.0,>=8.1.0 in /usr/local/lib/python3.11/dist-packages (from langchain-core>=0.1->langgraph) (8.5.0)\n",
            "Requirement already satisfied: jsonpatch<2.0,>=1.33 in /usr/local/lib/python3.11/dist-packages (from langchain-core>=0.1->langgraph) (1.33)\n",
            "Requirement already satisfied: PyYAML>=5.3 in /usr/local/lib/python3.11/dist-packages (from langchain-core>=0.1->langgraph) (6.0.2)\n",
            "Requirement already satisfied: typing-extensions>=4.7 in /usr/local/lib/python3.11/dist-packages (from langchain-core>=0.1->langgraph) (4.14.1)\n",
            "Requirement already satisfied: packaging>=23.2 in /usr/local/lib/python3.11/dist-packages (from langchain-core>=0.1->langgraph) (25.0)\n",
            "Requirement already satisfied: ormsgpack>=1.10.0 in /usr/local/lib/python3.11/dist-packages (from langgraph-checkpoint<3.0.0,>=2.1.0->langgraph) (1.10.0)\n",
            "Requirement already satisfied: httpx>=0.25.2 in /usr/local/lib/python3.11/dist-packages (from langgraph-sdk<0.3.0,>=0.2.0->langgraph) (0.28.1)\n",
            "Requirement already satisfied: orjson>=3.10.1 in /usr/local/lib/python3.11/dist-packages (from langgraph-sdk<0.3.0,>=0.2.0->langgraph) (3.11.1)\n",
            "Requirement already satisfied: annotated-types>=0.6.0 in /usr/local/lib/python3.11/dist-packages (from pydantic>=2.7.4->langgraph) (0.7.0)\n",
            "Requirement already satisfied: pydantic-core==2.33.2 in /usr/local/lib/python3.11/dist-packages (from pydantic>=2.7.4->langgraph) (2.33.2)\n",
            "Requirement already satisfied: typing-inspection>=0.4.0 in /usr/local/lib/python3.11/dist-packages (from pydantic>=2.7.4->langgraph) (0.4.1)\n",
            "Requirement already satisfied: anyio in /usr/local/lib/python3.11/dist-packages (from httpx>=0.25.2->langgraph-sdk<0.3.0,>=0.2.0->langgraph) (4.9.0)\n",
            "Requirement already satisfied: certifi in /usr/local/lib/python3.11/dist-packages (from httpx>=0.25.2->langgraph-sdk<0.3.0,>=0.2.0->langgraph) (2025.7.14)\n",
            "Requirement already satisfied: httpcore==1.* in /usr/local/lib/python3.11/dist-packages (from httpx>=0.25.2->langgraph-sdk<0.3.0,>=0.2.0->langgraph) (1.0.9)\n",
            "Requirement already satisfied: idna in /usr/local/lib/python3.11/dist-packages (from httpx>=0.25.2->langgraph-sdk<0.3.0,>=0.2.0->langgraph) (3.10)\n",
            "Requirement already satisfied: h11>=0.16 in /usr/local/lib/python3.11/dist-packages (from httpcore==1.*->httpx>=0.25.2->langgraph-sdk<0.3.0,>=0.2.0->langgraph) (0.16.0)\n",
            "Requirement already satisfied: jsonpointer>=1.9 in /usr/local/lib/python3.11/dist-packages (from jsonpatch<2.0,>=1.33->langchain-core>=0.1->langgraph) (3.0.0)\n",
            "Requirement already satisfied: requests<3,>=2 in /usr/local/lib/python3.11/dist-packages (from langsmith>=0.3.45->langchain-core>=0.1->langgraph) (2.32.3)\n",
            "Requirement already satisfied: requests-toolbelt<2.0.0,>=1.0.0 in /usr/local/lib/python3.11/dist-packages (from langsmith>=0.3.45->langchain-core>=0.1->langgraph) (1.0.0)\n",
            "Requirement already satisfied: zstandard<0.24.0,>=0.23.0 in /usr/local/lib/python3.11/dist-packages (from langsmith>=0.3.45->langchain-core>=0.1->langgraph) (0.23.0)\n",
            "Requirement already satisfied: charset-normalizer<4,>=2 in /usr/local/lib/python3.11/dist-packages (from requests<3,>=2->langsmith>=0.3.45->langchain-core>=0.1->langgraph) (3.4.2)\n",
            "Requirement already satisfied: urllib3<3,>=1.21.1 in /usr/local/lib/python3.11/dist-packages (from requests<3,>=2->langsmith>=0.3.45->langchain-core>=0.1->langgraph) (2.5.0)\n",
            "Requirement already satisfied: sniffio>=1.1 in /usr/local/lib/python3.11/dist-packages (from anyio->httpx>=0.25.2->langgraph-sdk<0.3.0,>=0.2.0->langgraph) (1.3.1)\n"
          ]
        }
      ]
    },
    {
      "cell_type": "code",
      "execution_count": 19,
      "metadata": {
        "id": "47Ik7OHWTsL0"
      },
      "outputs": [],
      "source": [
        "from langgraph.graph import StateGraph,START,END\n",
        "from langgraph.checkpoint.memory import InMemorySaver\n",
        "from typing import TypedDict\n",
        "import time"
      ]
    },
    {
      "cell_type": "code",
      "source": [
        "class State(TypedDict):\n",
        "  input:str\n",
        "  step_1:str\n",
        "  step_2:str\n",
        "  step_3:str\n"
      ],
      "metadata": {
        "id": "11tbaCkCVfTA"
      },
      "execution_count": 20,
      "outputs": []
    },
    {
      "cell_type": "code",
      "source": [
        "# HUMAN IN THE LOOP IMPLEMENTATION\n",
        "from langgraph.types import interrupt,Command"
      ],
      "metadata": {
        "id": "WS0mo2x5xWw7"
      },
      "execution_count": 33,
      "outputs": []
    },
    {
      "cell_type": "code",
      "source": [
        "def step_01(State):\n",
        "  print(\"step 1 is executing\")\n",
        "  return {\"step_1\":\"this is updated successfully\"}\n",
        "def step_02(State):\n",
        "  print(\"step o2 is executing\")\n",
        "  value =interrupt(\n",
        "      \"what should i replay in the step-02\"\n",
        "  )\n",
        "\n",
        "  return {\"step_2\":f\"this is the value suggested by user :) {value}\"}\n",
        "def step_03(State):\n",
        "  print(\"step 3 is executing\")\n",
        "  return {\"step_3\":\"this is updated successfully\"}"
      ],
      "metadata": {
        "id": "smna0rKzV43U"
      },
      "execution_count": 34,
      "outputs": []
    },
    {
      "cell_type": "code",
      "source": [
        "workflow = StateGraph(State)\n",
        "workflow.add_node(\"step_1\",step_01)\n",
        "workflow.add_node(\"step_2\",step_02)\n",
        "workflow.add_node(\"step_3\",step_03)\n",
        "\n",
        "workflow.add_edge(\"step_1\",\"step_2\")\n",
        "workflow.add_edge(\"step_2\",\"step_3\")\n",
        "workflow.add_edge(START,\"step_1\")\n",
        "workflow.add_edge(\"step_3\",END)"
      ],
      "metadata": {
        "colab": {
          "base_uri": "https://localhost:8080/"
        },
        "id": "8ZyqDfjOWJvy",
        "outputId": "fd9368cc-482a-4e46-90ae-9d48b4df33cc"
      },
      "execution_count": 35,
      "outputs": [
        {
          "output_type": "execute_result",
          "data": {
            "text/plain": [
              "<langgraph.graph.state.StateGraph at 0x7adc1af2e0d0>"
            ]
          },
          "metadata": {},
          "execution_count": 35
        }
      ]
    },
    {
      "cell_type": "code",
      "source": [
        "checkpointer = InMemorySaver()\n",
        "graph = workflow.compile(checkpointer=checkpointer)"
      ],
      "metadata": {
        "id": "xU74RcdBWyib"
      },
      "execution_count": 36,
      "outputs": []
    },
    {
      "cell_type": "code",
      "source": [
        "config={\n",
        "    \"configurable\":{\n",
        "        \"thread_id\":\"thread-01\"\n",
        "        }\n",
        "    }\n",
        "try:\n",
        "  print(\"started executing the graph\")\n",
        "  graph.invoke({\"input\":\"this is intial message passed  while invoking the graph\"},config=config)\n",
        "except:\n",
        "  print(\"some worng -- interrupted\")\n"
      ],
      "metadata": {
        "colab": {
          "base_uri": "https://localhost:8080/"
        },
        "id": "g_VIJRLgWVjF",
        "outputId": "35b82621-5785-4d63-e229-1bc185b695bc"
      },
      "execution_count": 37,
      "outputs": [
        {
          "output_type": "stream",
          "name": "stdout",
          "text": [
            "started executing the graph\n",
            "step 1 is executing\n",
            "step o2 is executing\n"
          ]
        }
      ]
    },
    {
      "cell_type": "code",
      "source": [
        "graph"
      ],
      "metadata": {
        "colab": {
          "base_uri": "https://localhost:8080/",
          "height": 449
        },
        "id": "uXgHDz4zYkl-",
        "outputId": "45348989-0677-4558-da66-82fb5b93348c"
      },
      "execution_count": 48,
      "outputs": [
        {
          "output_type": "execute_result",
          "data": {
            "text/plain": [
              "<langgraph.graph.state.CompiledStateGraph object at 0x7adc1af2fbd0>"
            ],
            "image/png": "[encoded data removed]"
          },
          "metadata": {},
          "execution_count": 48
        }
      ]
    },
    {
      "cell_type": "code",
      "source": [
        " state =graph.get_state(config=config)"
      ],
      "metadata": {
        "id": "sBczuQ8UYnKT"
      },
      "execution_count": 41,
      "outputs": []
    },
    {
      "cell_type": "code",
      "source": [
        "state"
      ],
      "metadata": {
        "colab": {
          "base_uri": "https://localhost:8080/"
        },
        "id": "XoLAlwm7z-wd",
        "outputId": "ba436147-a856-4b65-dffd-9812b040f4cd"
      },
      "execution_count": 42,
      "outputs": [
        {
          "output_type": "execute_result",
          "data": {
            "text/plain": [
              "StateSnapshot(values={'input': 'this is intial message passed  while invoking the graph', 'step_1': 'this is updated successfully'}, next=('step_2',), config={'configurable': {'thread_id': 'thread-01', 'checkpoint_ns': '', 'checkpoint_id': '1f071e82-bc4f-6629-8001-728cca4a5f65'}}, metadata={'source': 'loop', 'step': 1, 'parents': {}}, created_at='2025-08-05T10:37:22.916482+00:00', parent_config={'configurable': {'thread_id': 'thread-01', 'checkpoint_ns': '', 'checkpoint_id': '1f071e82-bc4c-6012-8000-1ec40bef5a08'}}, tasks=(PregelTask(id='03a90bd5-48eb-f333-6985-f1388500d2a8', name='step_2', path=('__pregel_pull', 'step_2'), error=None, interrupts=(Interrupt(value='what should i replay in the step-02', id='0d6ad02fc7c51603ac34d1c9c1854e3d'),), state=None, result=None),), interrupts=(Interrupt(value='what should i replay in the step-02', id='0d6ad02fc7c51603ac34d1c9c1854e3d'),))"
            ]
          },
          "metadata": {},
          "execution_count": 42
        }
      ]
    },
    {
      "cell_type": "code",
      "source": [
        "state.tasks[0].interrupts"
      ],
      "metadata": {
        "colab": {
          "base_uri": "https://localhost:8080/"
        },
        "id": "VkxPp2_V0CtX",
        "outputId": "d1612392-69c2-4fc4-a448-57b9ef4d8c09"
      },
      "execution_count": 44,
      "outputs": [
        {
          "output_type": "execute_result",
          "data": {
            "text/plain": [
              "(Interrupt(value='what should i replay in the step-02', id='0d6ad02fc7c51603ac34d1c9c1854e3d'),)"
            ]
          },
          "metadata": {},
          "execution_count": 44
        }
      ]
    },
    {
      "cell_type": "code",
      "source": [
        "graph.invoke(Command(resume=\"say that i am  bussy i have home work to do \"),config=config)"
      ],
      "metadata": {
        "colab": {
          "base_uri": "https://localhost:8080/"
        },
        "id": "gWLqF2xt0HIg",
        "outputId": "7881a65c-60bb-4afa-ba71-5caf869cf986"
      },
      "execution_count": 46,
      "outputs": [
        {
          "output_type": "stream",
          "name": "stdout",
          "text": [
            "step o2 is executing\n",
            "step 3 is executing\n"
          ]
        },
        {
          "output_type": "execute_result",
          "data": {
            "text/plain": [
              "{'input': 'this is intial message passed  while invoking the graph',\n",
              " 'step_1': 'this is updated successfully',\n",
              " 'step_2': 'this is the value suggested by user :) say that i am  bussy i have home work to do ',\n",
              " 'step_3': 'this is updated successfully'}"
            ]
          },
          "metadata": {},
          "execution_count": 46
        }
      ]
    },
    {
      "cell_type": "code",
      "source": [
        "graph.get_state(config=config)"
      ],
      "metadata": {
        "colab": {
          "base_uri": "https://localhost:8080/"
        },
        "id": "5CsiXFja00s2",
        "outputId": "83fdf756-8c94-4dfc-ab91-ae34a0cec4a5"
      },
      "execution_count": 47,
      "outputs": [
        {
          "output_type": "execute_result",
          "data": {
            "text/plain": [
              "StateSnapshot(values={'input': 'this is intial message passed  while invoking the graph', 'step_1': 'this is updated successfully', 'step_2': 'this is the value suggested by user :) say that i am  bussy i have home work to do ', 'step_3': 'this is updated successfully'}, next=(), config={'configurable': {'thread_id': 'thread-01', 'checkpoint_ns': '', 'checkpoint_id': '1f071e8d-a80b-684c-8003-dcab1f1bd291'}}, metadata={'source': 'loop', 'step': 3, 'parents': {}}, created_at='2025-08-05T10:42:16.070533+00:00', parent_config={'configurable': {'thread_id': 'thread-01', 'checkpoint_ns': '', 'checkpoint_id': '1f071e8d-a806-6fa1-8002-7cf84c40b4da'}}, tasks=(), interrupts=())"
            ]
          },
          "metadata": {},
          "execution_count": 47
        }
      ]
    },
    {
      "cell_type": "code",
      "source": [
        " list(graph.get_state_history(config=config))"
      ],
      "metadata": {
        "colab": {
          "base_uri": "https://localhost:8080/"
        },
        "collapsed": true,
        "id": "bS1r-RtLaqiV",
        "outputId": "21cc058a-d7ab-48bd-ba58-9dbc3e949a8c"
      },
      "execution_count": 31,
      "outputs": [
        {
          "output_type": "execute_result",
          "data": {
            "text/plain": [
              "[StateSnapshot(values={'input': 'this is intial message passed  while invoking the graph', 'step_1': 'this is updated successfully'}, next=('step_2',), config={'configurable': {'thread_id': 'thread-01', 'checkpoint_ns': '', 'checkpoint_id': '1f071e7a-b6fa-6fe8-8001-78ec7c3b1f72'}}, metadata={'source': 'loop', 'step': 1, 'parents': {}}, created_at='2025-08-05T10:33:47.609264+00:00', parent_config={'configurable': {'thread_id': 'thread-01', 'checkpoint_ns': '', 'checkpoint_id': '1f071e7a-b6f7-6e7c-8000-52184287ddff'}}, tasks=(PregelTask(id='42b304d8-8646-48d3-dac7-410a46b429e5', name='step_2', path=('__pregel_pull', 'step_2'), error=None, interrupts=(Interrupt(value='what should i replay in the step-02', id='d61bd3964c7fd61f3716c59196481a98'),), state=None, result=None),), interrupts=(Interrupt(value='what should i replay in the step-02', id='d61bd3964c7fd61f3716c59196481a98'),)),\n",
              " StateSnapshot(values={'input': 'this is intial message passed  while invoking the graph'}, next=('step_1',), config={'configurable': {'thread_id': 'thread-01', 'checkpoint_ns': '', 'checkpoint_id': '1f071e7a-b6f7-6e7c-8000-52184287ddff'}}, metadata={'source': 'loop', 'step': 0, 'parents': {}}, created_at='2025-08-05T10:33:47.607999+00:00', parent_config={'configurable': {'thread_id': 'thread-01', 'checkpoint_ns': '', 'checkpoint_id': '1f071e7a-b6ef-6663-bfff-05a9388c568c'}}, tasks=(PregelTask(id='bc970e26-b84f-a4bf-1d5f-3faf6738dd7b', name='step_1', path=('__pregel_pull', 'step_1'), error=None, interrupts=(), state=None, result={'step_1': 'this is updated successfully'}),), interrupts=()),\n",
              " StateSnapshot(values={}, next=('__start__',), config={'configurable': {'thread_id': 'thread-01', 'checkpoint_ns': '', 'checkpoint_id': '1f071e7a-b6ef-6663-bfff-05a9388c568c'}}, metadata={'source': 'input', 'step': -1, 'parents': {}}, created_at='2025-08-05T10:33:47.604528+00:00', parent_config=None, tasks=(PregelTask(id='07df154f-5e4f-2bc0-3652-42945210de85', name='__start__', path=('__pregel_pull', '__start__'), error=None, interrupts=(), state=None, result={'input': 'this is intial message passed  while invoking the graph'}),), interrupts=())]"
            ]
          },
          "metadata": {},
          "execution_count": 31
        }
      ]
    },
    {
      "cell_type": "code",
      "source": [
        "# graph.invoke(None,config=config)"
      ],
      "metadata": {
        "id": "ioVYilp2a5GG"
      },
      "execution_count": 29,
      "outputs": []
    },
    {
      "cell_type": "markdown",
      "source": [
        "update state\n"
      ],
      "metadata": {
        "id": "fPgDPN7Of7Gd"
      }
    },
    {
      "cell_type": "code",
      "source": [],
      "metadata": {
        "id": "HaH5p53ecOV3"
      },
      "execution_count": 29,
      "outputs": []
    },
    {
      "cell_type": "code",
      "source": [],
      "metadata": {
        "id": "A-Cbuad5cOSg"
      },
      "execution_count": 29,
      "outputs": []
    },
    {
      "cell_type": "code",
      "source": [],
      "metadata": {
        "id": "wzVCyvcjcONK"
      },
      "execution_count": 29,
      "outputs": []
    }
  ]
}