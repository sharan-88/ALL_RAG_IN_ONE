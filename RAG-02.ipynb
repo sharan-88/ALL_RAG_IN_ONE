{
  "nbformat": 4,
  "nbformat_minor": 0,
  "metadata": {
    "colab": {
      "provenance": [],
      "authorship_tag": "ABX9TyN7oqXfnfGYxtkXoGwZ0ZdD",
      "include_colab_link": true
    },
    "kernelspec": {
      "name": "python3",
      "display_name": "Python 3"
    },
    "language_info": {
      "name": "python"
    }
  },
  "cells": [
    {
      "cell_type": "markdown",
      "metadata": {
        "id": "view-in-github",
        "colab_type": "text"
      },
      "source": [
        "<a href=\"https://colab.research.google.com/github/sharan-88/ALL_RAG_IN_ONE/blob/main/RAG-02.ipynb\" target=\"_parent\"><img src=\"https://colab.research.google.com/assets/colab-badge.svg\" alt=\"Open In Colab\"/></a>"
      ]
    },
    {
      "cell_type": "code",
      "source": [
        "%pip install --quiet --upgrade langchain-text-splitters langchain-community langgraph"
      ],
      "metadata": {
        "colab": {
          "base_uri": "https://localhost:8080/"
        },
        "id": "iM1omxDs18mK",
        "outputId": "202a7b65-da62-43d2-8150-621a0c40e3c8"
      },
      "execution_count": null,
      "outputs": [
        {
          "output_type": "stream",
          "name": "stdout",
          "text": [
            "\u001b[2K     \u001b[90m━━━━━━━━━━━━━━━━━━━━━━━━━━━━━━━━━━━━━━━━\u001b[0m \u001b[32m43.7/43.7 kB\u001b[0m \u001b[31m2.4 MB/s\u001b[0m eta \u001b[36m0:00:00\u001b[0m\n",
            "\u001b[2K   \u001b[90m━━━━━━━━━━━━━━━━━━━━━━━━━━━━━━━━━━━━━━━━\u001b[0m \u001b[32m2.5/2.5 MB\u001b[0m \u001b[31m42.5 MB/s\u001b[0m eta \u001b[36m0:00:00\u001b[0m\n",
            "\u001b[2K   \u001b[90m━━━━━━━━━━━━━━━━━━━━━━━━━━━━━━━━━━━━━━━━\u001b[0m \u001b[32m152.5/152.5 kB\u001b[0m \u001b[31m9.7 MB/s\u001b[0m eta \u001b[36m0:00:00\u001b[0m\n",
            "\u001b[2K   \u001b[90m━━━━━━━━━━━━━━━━━━━━━━━━━━━━━━━━━━━━━━━━\u001b[0m \u001b[32m43.9/43.9 kB\u001b[0m \u001b[31m2.5 MB/s\u001b[0m eta \u001b[36m0:00:00\u001b[0m\n",
            "\u001b[2K   \u001b[90m━━━━━━━━━━━━━━━━━━━━━━━━━━━━━━━━━━━━━━━━\u001b[0m \u001b[32m50.6/50.6 kB\u001b[0m \u001b[31m3.3 MB/s\u001b[0m eta \u001b[36m0:00:00\u001b[0m\n",
            "\u001b[2K   \u001b[90m━━━━━━━━━━━━━━━━━━━━━━━━━━━━━━━━━━━━━━━━\u001b[0m \u001b[32m45.2/45.2 kB\u001b[0m \u001b[31m2.5 MB/s\u001b[0m eta \u001b[36m0:00:00\u001b[0m\n",
            "\u001b[2K   \u001b[90m━━━━━━━━━━━━━━━━━━━━━━━━━━━━━━━━━━━━━━━━\u001b[0m \u001b[32m50.9/50.9 kB\u001b[0m \u001b[31m2.9 MB/s\u001b[0m eta \u001b[36m0:00:00\u001b[0m\n",
            "\u001b[2K   \u001b[90m━━━━━━━━━━━━━━━━━━━━━━━━━━━━━━━━━━━━━━━━\u001b[0m \u001b[32m216.5/216.5 kB\u001b[0m \u001b[31m13.8 MB/s\u001b[0m eta \u001b[36m0:00:00\u001b[0m\n",
            "\u001b[?25h"
          ]
        }
      ]
    },
    {
      "cell_type": "code",
      "source": [
        "!pip install -qU langchain-google-genai"
      ],
      "metadata": {
        "id": "Sgg5hxap2YG5"
      },
      "execution_count": 6,
      "outputs": []
    },
    {
      "cell_type": "code",
      "source": [
        "import getpass\n",
        "import os\n",
        "\n",
        "if not os.environ.get(\"GOOGLE_API_KEY\"):\n",
        "  os.environ[\"GOOGLE_API_KEY\"] = getpass.getpass(\"Enter your Google API key:\")"
      ],
      "metadata": {
        "id": "UfYm7KT92IKO",
        "colab": {
          "base_uri": "https://localhost:8080/"
        },
        "outputId": "42454c01-6903-4fd8-f643-5767e9881d91"
      },
      "execution_count": 2,
      "outputs": [
        {
          "name": "stdout",
          "output_type": "stream",
          "text": [
            "Enter your Google API key:··········\n"
          ]
        }
      ]
    },
    {
      "cell_type": "code",
      "source": [
        "from langchain_google_genai import GoogleGenerativeAIEmbeddings\n",
        "#enbeddings\n",
        "embeddings = GoogleGenerativeAIEmbeddings(model=\"models/embedding-gecko-001\")"
      ],
      "metadata": {
        "id": "Dbu0QOe35I92"
      },
      "execution_count": 30,
      "outputs": []
    },
    {
      "cell_type": "code",
      "metadata": {
        "colab": {
          "base_uri": "https://localhost:8080/"
        },
        "id": "3c8f77d4",
        "outputId": "2562d21c-1912-42d6-92bf-b5fdafca6a4e"
      },
      "source": [
        "%pip install --quiet --upgrade langchain-community"
      ],
      "execution_count": 12,
      "outputs": [
        {
          "output_type": "stream",
          "name": "stdout",
          "text": [
            "\u001b[?25l   \u001b[90m━━━━━━━━━━━━━━━━━━━━━━━━━━━━━━━━━━━━━━━━\u001b[0m \u001b[32m0.0/2.5 MB\u001b[0m \u001b[31m?\u001b[0m eta \u001b[36m-:--:--\u001b[0m\r\u001b[2K   \u001b[91m━━━━━━━━━━━━━━━━━━━━━━━━━━━━━━━━━━━━━━━\u001b[0m\u001b[91m╸\u001b[0m \u001b[32m2.5/2.5 MB\u001b[0m \u001b[31m138.2 MB/s\u001b[0m eta \u001b[36m0:00:01\u001b[0m\r\u001b[2K   \u001b[90m━━━━━━━━━━━━━━━━━━━━━━━━━━━━━━━━━━━━━━━━\u001b[0m \u001b[32m2.5/2.5 MB\u001b[0m \u001b[31m61.2 MB/s\u001b[0m eta \u001b[36m0:00:00\u001b[0m\n",
            "\u001b[?25h\u001b[?25l   \u001b[90m━━━━━━━━━━━━━━━━━━━━━━━━━━━━━━━━━━━━━━━━\u001b[0m \u001b[32m0.0/45.2 kB\u001b[0m \u001b[31m?\u001b[0m eta \u001b[36m-:--:--\u001b[0m\r\u001b[2K   \u001b[90m━━━━━━━━━━━━━━━━━━━━━━━━━━━━━━━━━━━━━━━━\u001b[0m \u001b[32m45.2/45.2 kB\u001b[0m \u001b[31m3.6 MB/s\u001b[0m eta \u001b[36m0:00:00\u001b[0m\n",
            "\u001b[?25h\u001b[?25l   \u001b[90m━━━━━━━━━━━━━━━━━━━━━━━━━━━━━━━━━━━━━━━━\u001b[0m \u001b[32m0.0/50.9 kB\u001b[0m \u001b[31m?\u001b[0m eta \u001b[36m-:--:--\u001b[0m\r\u001b[2K   \u001b[90m━━━━━━━━━━━━━━━━━━━━━━━━━━━━━━━━━━━━━━━━\u001b[0m \u001b[32m50.9/50.9 kB\u001b[0m \u001b[31m3.9 MB/s\u001b[0m eta \u001b[36m0:00:00\u001b[0m\n",
            "\u001b[?25h"
          ]
        }
      ]
    },
    {
      "cell_type": "code",
      "source": [
        "# geting text\n",
        "from langchain.text_splitter import RecursiveCharacterTextSplitter\n",
        "from langchain_community.document_loaders import TextLoader\n",
        "\n",
        "loader = TextLoader(\"/content/romeo_and_juliet.txt\")\n",
        "document = loader.load()"
      ],
      "metadata": {
        "id": "N2mLsiU054r_"
      },
      "execution_count": 16,
      "outputs": []
    },
    {
      "cell_type": "code",
      "source": [
        "text_splitter = RecursiveCharacterTextSplitter(chunk_size=800,chunk_overlap = 100)\n",
        "docs = text_splitter.split_documents(document)"
      ],
      "metadata": {
        "id": "Ci24uv0-6vHS"
      },
      "execution_count": 21,
      "outputs": []
    },
    {
      "cell_type": "code",
      "source": [
        "len(docs)"
      ],
      "metadata": {
        "colab": {
          "base_uri": "https://localhost:8080/"
        },
        "id": "Gs7_QCxq7ck6",
        "outputId": "719bf2b4-fa7f-4538-dfbb-04eaa2c1bbc1"
      },
      "execution_count": 22,
      "outputs": [
        {
          "output_type": "execute_result",
          "data": {
            "text/plain": [
              "269"
            ]
          },
          "metadata": {},
          "execution_count": 22
        }
      ]
    },
    {
      "cell_type": "code",
      "source": [
        "print(docs[1])\n",
        "print(\"______________next docs 2 ___________________\")\n",
        "print(docs[2])"
      ],
      "metadata": {
        "colab": {
          "base_uri": "https://localhost:8080/"
        },
        "id": "X-mNg9u87fFx",
        "outputId": "edadd91b-5e67-4202-ce11-57fe52734db2"
      },
      "execution_count": 23,
      "outputs": [
        {
          "output_type": "stream",
          "name": "stdout",
          "text": [
            "page_content='Credits: the PG Shakespeare Team, a team of about twenty Project Gutenberg volunteers\n",
            "\n",
            "\n",
            "*** START OF THE PROJECT GUTENBERG EBOOK ROMEO AND JULIET ***\n",
            "\n",
            "\n",
            "\n",
            "\n",
            "THE TRAGEDY OF ROMEO AND JULIET\n",
            "\n",
            "by William Shakespeare\n",
            "\n",
            "\n",
            "\n",
            "\n",
            "Contents\n",
            "\n",
            "THE PROLOGUE.\n",
            "\n",
            "ACT I\n",
            "Scene I. A public place.\n",
            "Scene II. A Street.\n",
            "Scene III. Room in Capulet’s House.\n",
            "Scene IV. A Street.\n",
            "Scene V. A Hall in Capulet’s House.\n",
            "\n",
            "ACT II\n",
            "CHORUS.\n",
            "Scene I. An open place adjoining Capulet’s Garden.\n",
            "Scene II. Capulet’s Garden.\n",
            "Scene III. Friar Lawrence’s Cell.\n",
            "Scene IV. A Street.\n",
            "Scene V. Capulet’s Garden.\n",
            "Scene VI. Friar Lawrence’s Cell.' metadata={'source': '/content/romeo_and_juliet.txt'}\n",
            "______________next docs 2 ___________________\n",
            "page_content='ACT III\n",
            "Scene I. A public Place.\n",
            "Scene II. A Room in Capulet’s House.\n",
            "Scene III. Friar Lawrence’s cell.\n",
            "Scene IV. A Room in Capulet’s House.\n",
            "Scene V. An open Gallery to Juliet’s Chamber, overlooking the Garden.\n",
            "\n",
            "ACT IV\n",
            "Scene I. Friar Lawrence’s Cell.\n",
            "Scene II. Hall in Capulet’s House.\n",
            "Scene III. Juliet’s Chamber.\n",
            "Scene IV. Hall in Capulet’s House.\n",
            "Scene V. Juliet’s Chamber; Juliet on the bed.\n",
            "\n",
            "ACT V\n",
            "Scene I. Mantua. A Street.\n",
            "Scene II. Friar Lawrence’s Cell.\n",
            "Scene III. A churchyard; in it a Monument belonging to the Capulets.\n",
            "\n",
            "\n",
            "\n",
            "\n",
            " Dramatis Personæ\n",
            "\n",
            "ESCALUS, Prince of Verona.\n",
            "MERCUTIO, kinsman to the Prince, and friend to Romeo.\n",
            "PARIS, a young Nobleman, kinsman to the Prince.\n",
            "Page to Paris.' metadata={'source': '/content/romeo_and_juliet.txt'}\n"
          ]
        }
      ]
    },
    {
      "cell_type": "code",
      "source": [
        "from langchain_core.vectorstores import InMemoryVectorStore\n",
        "# Initialize with an embedding model\n",
        "vector_store = InMemoryVectorStore(embedding=embeddings)"
      ],
      "metadata": {
        "id": "w1SIxxrl8dN-"
      },
      "execution_count": 31,
      "outputs": []
    },
    {
      "cell_type": "code",
      "source": [
        "db = vector_store.add_documents(documents=docs)\n",
        "db[:3]\n"
      ],
      "metadata": {
        "colab": {
          "base_uri": "https://localhost:8080/"
        },
        "id": "loUahUoI71By",
        "outputId": "fb1547c7-8455-4c0f-f57b-3956cc1529f0"
      },
      "execution_count": 36,
      "outputs": [
        {
          "output_type": "execute_result",
          "data": {
            "text/plain": [
              "['b5b0cbea-5990-42b0-8a7c-85637271096f',\n",
              " 'f59e3601-3727-494d-9510-27fcd042fea3',\n",
              " '46a77ad2-3df6-4dcf-9b53-0d61c20a5017']"
            ]
          },
          "metadata": {},
          "execution_count": 36
        }
      ]
    },
    {
      "cell_type": "code",
      "source": [
        "retriever = vector_store.as_retriever()"
      ],
      "metadata": {
        "id": "TGNcP1Ra9HcS"
      },
      "execution_count": 39,
      "outputs": []
    },
    {
      "cell_type": "code",
      "source": [
        "relevent_docs = retriever.get_relevant_documents(\"how did juilet die?\")"
      ],
      "metadata": {
        "id": "tKd6Hsmp9hTT"
      },
      "execution_count": 45,
      "outputs": []
    },
    {
      "cell_type": "code",
      "source": [
        "for i ,doc in  enumerate(relevent_docs):\n",
        "  print(f\"document {i} and content is {doc.page_content}\" )"
      ],
      "metadata": {
        "colab": {
          "base_uri": "https://localhost:8080/"
        },
        "id": "JvkfBYu2-k16",
        "outputId": "64d8538f-4085-461e-92cc-0aa89426a086"
      },
      "execution_count": 46,
      "outputs": [
        {
          "output_type": "stream",
          "name": "stdout",
          "text": [
            "document 0 and content is LADY CAPULET.\n",
            "A fortnight and odd days.\n",
            "document 1 and content is LADY CAPULET.\n",
            "A fortnight and odd days.\n",
            "document 2 and content is LADY CAPULET.\n",
            "A fortnight and odd days.\n",
            "document 3 and content is Enter Lady Capulet.\n",
            "\n",
            "LADY CAPULET.\n",
            "Why, how now, Juliet?\n",
            "\n",
            "JULIET.\n",
            "Madam, I am not well.\n",
            "\n",
            "LADY CAPULET.\n",
            "Evermore weeping for your cousin’s death?\n",
            "What, wilt thou wash him from his grave with tears?\n",
            "And if thou couldst, thou couldst not make him live.\n",
            "Therefore have done: some grief shows much of love,\n",
            "But much of grief shows still some want of wit.\n",
            "\n",
            "JULIET.\n",
            "Yet let me weep for such a feeling loss.\n",
            "\n",
            "LADY CAPULET.\n",
            "So shall you feel the loss, but not the friend\n",
            "Which you weep for.\n",
            "\n",
            "JULIET.\n",
            "Feeling so the loss,\n",
            "I cannot choose but ever weep the friend.\n",
            "\n",
            "LADY CAPULET.\n",
            "Well, girl, thou weep’st not so much for his death\n",
            "As that the villain lives which slaughter’d him.\n",
            "\n",
            "JULIET.\n",
            "What villain, madam?\n",
            "\n",
            "LADY CAPULET.\n",
            "That same villain Romeo.\n"
          ]
        }
      ]
    }
  ]
}